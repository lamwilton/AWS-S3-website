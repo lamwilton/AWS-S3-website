{
 "cells": [
  {
   "cell_type": "markdown",
   "metadata": {
    "collapsed": true,
    "pycharm": {
     "is_executing": false,
     "name": "#%% md\n"
    }
   },
   "source": [
    "Reading Dynamodb table of my website\n",
    "Please use aws configure to login with access key and secret access key\n",
    "JSON converter: https://github.com/Alonreznik/dynamodb-json"
   ]
  },
  {
   "cell_type": "code",
   "execution_count": 1,
   "outputs": [
    {
     "data": {
      "text/plain": "                   time               ip                                origin\n355 2020-04-22 20:21:50    68.200.22.123     https://tiffany-matsuda.github.io\n163 2020-04-22 19:51:18    89.187.174.39                     http://giiglr.com\n320 2020-04-22 16:32:48   207.228.78.141     https://tiffany-matsuda.github.io\n95  2020-04-22 16:10:36  182.239.117.154     https://tiffany-matsuda.github.io\n335 2020-04-22 16:05:32   189.120.75.249     https://tiffany-matsuda.github.io\n15  2020-04-22 14:13:16    47.20.208.211     https://tiffany-matsuda.github.io\n337 2020-04-22 08:58:21   159.28.232.202     https://tiffany-matsuda.github.io\n176 2020-04-22 08:26:20   94.101.253.188                     http://giiglr.com\n142 2020-04-22 08:01:22   183.178.203.27     https://tiffany-matsuda.github.io\n276 2020-04-22 05:26:37    179.7.225.106  https://nickycoser.000webhostapp.com\n155 2020-04-22 04:34:40      42.60.7.108     https://tiffany-matsuda.github.io\n363 2020-04-22 03:32:27     83.123.98.82                     http://giiglr.com\n341 2020-04-21 23:05:58   190.175.40.166     https://tiffany-matsuda.github.io\n148 2020-04-21 22:07:26    156.210.139.5     https://tiffany-matsuda.github.io\n138 2020-04-21 13:00:03    138.94.188.86     https://tiffany-matsuda.github.io\n202 2020-04-21 10:59:41   72.132.201.140     https://tiffany-matsuda.github.io\n232 2020-04-21 10:12:49    69.122.57.158     https://tiffany-matsuda.github.io\n287 2020-04-21 09:30:09   89.144.200.114     https://tiffany-matsuda.github.io\n212 2020-04-21 05:00:49   201.68.239.248     https://tiffany-matsuda.github.io\n189 2020-04-21 03:44:59    177.205.35.42     https://tiffany-matsuda.github.io\n183 2020-04-21 03:40:52   177.189.99.253     https://tiffany-matsuda.github.io\n84  2020-04-21 03:40:42   177.189.99.253     https://tiffany-matsuda.github.io\n247 2020-04-21 01:32:25    108.66.246.88     https://tiffany-matsuda.github.io\n101 2020-04-21 01:29:38    47.41.208.203     https://tiffany-matsuda.github.io\n261 2020-04-20 23:41:43   192.141.247.17     https://tiffany-matsuda.github.io\n144 2020-04-20 21:58:33  201.160.220.244     https://tiffany-matsuda.github.io\n292 2020-04-20 20:22:58    185.242.5.203                     http://giiglr.com\n3   2020-04-20 19:06:34    76.171.175.69                     http://giiglr.com\n100 2020-04-20 18:33:24      120.22.1.74     https://tiffany-matsuda.github.io\n210 2020-04-20 16:53:40   73.250.168.117     https://tiffany-matsuda.github.io",
      "text/html": "<div>\n<style scoped>\n    .dataframe tbody tr th:only-of-type {\n        vertical-align: middle;\n    }\n\n    .dataframe tbody tr th {\n        vertical-align: top;\n    }\n\n    .dataframe thead th {\n        text-align: right;\n    }\n</style>\n<table border=\"1\" class=\"dataframe\">\n  <thead>\n    <tr style=\"text-align: right;\">\n      <th></th>\n      <th>time</th>\n      <th>ip</th>\n      <th>origin</th>\n    </tr>\n  </thead>\n  <tbody>\n    <tr>\n      <th>355</th>\n      <td>2020-04-22 20:21:50</td>\n      <td>68.200.22.123</td>\n      <td>https://tiffany-matsuda.github.io</td>\n    </tr>\n    <tr>\n      <th>163</th>\n      <td>2020-04-22 19:51:18</td>\n      <td>89.187.174.39</td>\n      <td>http://giiglr.com</td>\n    </tr>\n    <tr>\n      <th>320</th>\n      <td>2020-04-22 16:32:48</td>\n      <td>207.228.78.141</td>\n      <td>https://tiffany-matsuda.github.io</td>\n    </tr>\n    <tr>\n      <th>95</th>\n      <td>2020-04-22 16:10:36</td>\n      <td>182.239.117.154</td>\n      <td>https://tiffany-matsuda.github.io</td>\n    </tr>\n    <tr>\n      <th>335</th>\n      <td>2020-04-22 16:05:32</td>\n      <td>189.120.75.249</td>\n      <td>https://tiffany-matsuda.github.io</td>\n    </tr>\n    <tr>\n      <th>15</th>\n      <td>2020-04-22 14:13:16</td>\n      <td>47.20.208.211</td>\n      <td>https://tiffany-matsuda.github.io</td>\n    </tr>\n    <tr>\n      <th>337</th>\n      <td>2020-04-22 08:58:21</td>\n      <td>159.28.232.202</td>\n      <td>https://tiffany-matsuda.github.io</td>\n    </tr>\n    <tr>\n      <th>176</th>\n      <td>2020-04-22 08:26:20</td>\n      <td>94.101.253.188</td>\n      <td>http://giiglr.com</td>\n    </tr>\n    <tr>\n      <th>142</th>\n      <td>2020-04-22 08:01:22</td>\n      <td>183.178.203.27</td>\n      <td>https://tiffany-matsuda.github.io</td>\n    </tr>\n    <tr>\n      <th>276</th>\n      <td>2020-04-22 05:26:37</td>\n      <td>179.7.225.106</td>\n      <td>https://nickycoser.000webhostapp.com</td>\n    </tr>\n    <tr>\n      <th>155</th>\n      <td>2020-04-22 04:34:40</td>\n      <td>42.60.7.108</td>\n      <td>https://tiffany-matsuda.github.io</td>\n    </tr>\n    <tr>\n      <th>363</th>\n      <td>2020-04-22 03:32:27</td>\n      <td>83.123.98.82</td>\n      <td>http://giiglr.com</td>\n    </tr>\n    <tr>\n      <th>341</th>\n      <td>2020-04-21 23:05:58</td>\n      <td>190.175.40.166</td>\n      <td>https://tiffany-matsuda.github.io</td>\n    </tr>\n    <tr>\n      <th>148</th>\n      <td>2020-04-21 22:07:26</td>\n      <td>156.210.139.5</td>\n      <td>https://tiffany-matsuda.github.io</td>\n    </tr>\n    <tr>\n      <th>138</th>\n      <td>2020-04-21 13:00:03</td>\n      <td>138.94.188.86</td>\n      <td>https://tiffany-matsuda.github.io</td>\n    </tr>\n    <tr>\n      <th>202</th>\n      <td>2020-04-21 10:59:41</td>\n      <td>72.132.201.140</td>\n      <td>https://tiffany-matsuda.github.io</td>\n    </tr>\n    <tr>\n      <th>232</th>\n      <td>2020-04-21 10:12:49</td>\n      <td>69.122.57.158</td>\n      <td>https://tiffany-matsuda.github.io</td>\n    </tr>\n    <tr>\n      <th>287</th>\n      <td>2020-04-21 09:30:09</td>\n      <td>89.144.200.114</td>\n      <td>https://tiffany-matsuda.github.io</td>\n    </tr>\n    <tr>\n      <th>212</th>\n      <td>2020-04-21 05:00:49</td>\n      <td>201.68.239.248</td>\n      <td>https://tiffany-matsuda.github.io</td>\n    </tr>\n    <tr>\n      <th>189</th>\n      <td>2020-04-21 03:44:59</td>\n      <td>177.205.35.42</td>\n      <td>https://tiffany-matsuda.github.io</td>\n    </tr>\n    <tr>\n      <th>183</th>\n      <td>2020-04-21 03:40:52</td>\n      <td>177.189.99.253</td>\n      <td>https://tiffany-matsuda.github.io</td>\n    </tr>\n    <tr>\n      <th>84</th>\n      <td>2020-04-21 03:40:42</td>\n      <td>177.189.99.253</td>\n      <td>https://tiffany-matsuda.github.io</td>\n    </tr>\n    <tr>\n      <th>247</th>\n      <td>2020-04-21 01:32:25</td>\n      <td>108.66.246.88</td>\n      <td>https://tiffany-matsuda.github.io</td>\n    </tr>\n    <tr>\n      <th>101</th>\n      <td>2020-04-21 01:29:38</td>\n      <td>47.41.208.203</td>\n      <td>https://tiffany-matsuda.github.io</td>\n    </tr>\n    <tr>\n      <th>261</th>\n      <td>2020-04-20 23:41:43</td>\n      <td>192.141.247.17</td>\n      <td>https://tiffany-matsuda.github.io</td>\n    </tr>\n    <tr>\n      <th>144</th>\n      <td>2020-04-20 21:58:33</td>\n      <td>201.160.220.244</td>\n      <td>https://tiffany-matsuda.github.io</td>\n    </tr>\n    <tr>\n      <th>292</th>\n      <td>2020-04-20 20:22:58</td>\n      <td>185.242.5.203</td>\n      <td>http://giiglr.com</td>\n    </tr>\n    <tr>\n      <th>3</th>\n      <td>2020-04-20 19:06:34</td>\n      <td>76.171.175.69</td>\n      <td>http://giiglr.com</td>\n    </tr>\n    <tr>\n      <th>100</th>\n      <td>2020-04-20 18:33:24</td>\n      <td>120.22.1.74</td>\n      <td>https://tiffany-matsuda.github.io</td>\n    </tr>\n    <tr>\n      <th>210</th>\n      <td>2020-04-20 16:53:40</td>\n      <td>73.250.168.117</td>\n      <td>https://tiffany-matsuda.github.io</td>\n    </tr>\n  </tbody>\n</table>\n</div>"
     },
     "execution_count": 1,
     "metadata": {},
     "output_type": "execute_result"
    }
   ],
   "source": [
    "import boto3\n",
    "import pandas as pd\n",
    "from dynamodb_json import json_util as json\n",
    "\n",
    "\n",
    "dynamodb = boto3.client('dynamodb')\n",
    "result = dynamodb.scan(TableName='myWebsiteTable')\n",
    "\n",
    "# Convert Dynamodb json to regular json\n",
    "json_converted = json.loads(result['Items'])\n",
    "df = pd.DataFrame(json_converted)\n",
    "df = df.sort_values(by='time', ascending=False)\n",
    "\n",
    "# Change to datetime format\n",
    "df['time'] = pd.to_datetime(df['time'])\n",
    "df[['time', 'ip', 'origin']].head(30)"
   ],
   "metadata": {
    "collapsed": false,
    "pycharm": {
     "name": "#%%\n"
    }
   }
  },
  {
   "cell_type": "markdown",
   "source": [
    "Count of number of records"
   ],
   "metadata": {
    "collapsed": false,
    "pycharm": {
     "name": "#%% md\n",
     "is_executing": false
    }
   }
  },
  {
   "cell_type": "code",
   "execution_count": 2,
   "outputs": [
    {
     "data": {
      "text/plain": "379"
     },
     "execution_count": 2,
     "metadata": {},
     "output_type": "execute_result"
    }
   ],
   "source": [
    "df['time'].count()"
   ],
   "metadata": {
    "collapsed": false,
    "pycharm": {
     "name": "#%%\n"
    }
   }
  },
  {
   "cell_type": "markdown",
   "source": [
    "Count number of records each day"
   ],
   "metadata": {
    "collapsed": false,
    "pycharm": {
     "name": "#%% md\n"
    }
   }
  },
  {
   "cell_type": "code",
   "execution_count": 3,
   "outputs": [
    {
     "data": {
      "text/plain": "2020-03-22     8\n2020-03-23    11\n2020-03-24     8\n2020-03-25     3\n2020-03-26     6\n2020-03-27     3\n2020-03-28     6\n2020-03-29     4\n2020-03-30     4\n2020-03-31     4\n2020-04-01     3\n2020-04-02     3\n2020-04-03     5\n2020-04-04     4\n2020-04-05     5\n2020-04-06     6\n2020-04-07     3\n2020-04-08     7\n2020-04-09     4\n2020-04-10     4\n2020-04-11     4\n2020-04-12    95\n2020-04-13    18\n2020-04-14    12\n2020-04-15     8\n2020-04-16    23\n2020-04-17    34\n2020-04-18    10\n2020-04-19    30\n2020-04-20    20\n2020-04-21    12\n2020-04-22    12\nName: day, dtype: int64"
     },
     "execution_count": 3,
     "metadata": {},
     "output_type": "execute_result"
    }
   ],
   "source": [
    "df['day'] = df['time'].dt.date\n",
    "pd.value_counts(df['day']).sort_index()"
   ],
   "metadata": {
    "collapsed": false,
    "pycharm": {
     "name": "#%%\n"
    }
   }
  }
 ],
 "metadata": {
  "kernelspec": {
   "display_name": "Python 3",
   "language": "python",
   "name": "python3"
  },
  "language_info": {
   "codemirror_mode": {
    "name": "ipython",
    "version": 2
   },
   "file_extension": ".py",
   "mimetype": "text/x-python",
   "name": "python",
   "nbconvert_exporter": "python",
   "pygments_lexer": "ipython2",
   "version": "2.7.6"
  }
 },
 "nbformat": 4,
 "nbformat_minor": 0
}
{
 "cells": [
  {
   "cell_type": "markdown",
   "metadata": {
    "collapsed": true,
    "pycharm": {
     "is_executing": false,
     "name": "#%% md\n"
    }
   },
   "source": [
    "Reading Dynamodb table of my website  \n",
    "JSON converter: https://github.com/Alonreznik/dynamodb-json"
   ]
  },
  {
   "cell_type": "code",
   "execution_count": 15,
   "outputs": [
    {
     "data": {
      "text/plain": "                   time               ip                                origin\n194 2020-04-20 16:53:40   73.250.168.117     https://tiffany-matsuda.github.io\n272 2020-04-20 16:25:47    186.15.173.74     https://tiffany-matsuda.github.io\n107 2020-04-20 15:10:54    98.156.217.33     https://tiffany-matsuda.github.io\n307 2020-04-20 14:59:20     39.13.38.197     https://tiffany-matsuda.github.io\n235 2020-04-20 14:02:54   157.46.124.138                     http://giiglr.com\n6   2020-04-20 10:24:14    202.142.71.68                     http://giiglr.com\n49  2020-04-20 08:16:51      93.6.16.231     https://tiffany-matsuda.github.io\n189 2020-04-20 08:01:17    180.246.8.181                     http://giiglr.com\n178 2020-04-20 06:46:25    49.130.128.51     https://tiffany-matsuda.github.io\n232 2020-04-20 06:46:16    112.118.36.91     https://tiffany-matsuda.github.io\n126 2020-04-20 06:44:56    112.118.36.91     https://tiffany-matsuda.github.io\n311 2020-04-20 06:06:41     94.14.144.94     https://tiffany-matsuda.github.io\n86  2020-04-20 04:09:41   103.79.168.130     https://tiffany-matsuda.github.io\n347 2020-04-20 02:53:28    181.60.43.195     https://tiffany-matsuda.github.io\n30  2020-04-20 02:22:51    24.17.143.171     https://tiffany-matsuda.github.io\n156 2020-04-19 23:53:45    1.126.107.231     https://tiffany-matsuda.github.io\n65  2020-04-19 23:53:42    1.126.107.231     https://tiffany-matsuda.github.io\n202 2020-04-19 23:01:16   176.206.193.30     https://tiffany-matsuda.github.io\n180 2020-04-19 22:17:12    80.180.109.95     https://tiffany-matsuda.github.io\n277 2020-04-19 22:10:48  209.225.143.200     https://tiffany-matsuda.github.io\n310 2020-04-19 22:00:49       68.5.103.5     https://tiffany-matsuda.github.io\n293 2020-04-19 21:09:21      70.44.78.14     https://tiffany-matsuda.github.io\n88  2020-04-19 14:15:29  213.211.208.231     https://tiffany-matsuda.github.io\n134 2020-04-19 12:58:31    69.160.160.56  https://nickycoser.000webhostapp.com\n37  2020-04-19 08:33:52   194.152.21.182     https://tiffany-matsuda.github.io\n309 2020-04-19 08:05:22    14.199.30.183     https://tiffany-matsuda.github.io\n15  2020-04-19 07:06:27     46.95.236.87     https://tiffany-matsuda.github.io\n212 2020-04-19 06:37:18     37.160.252.0     https://tiffany-matsuda.github.io\n219 2020-04-19 06:28:43   176.25.247.151     https://tiffany-matsuda.github.io\n80  2020-04-19 06:08:54     79.145.85.15     https://tiffany-matsuda.github.io",
      "text/html": "<div>\n<style scoped>\n    .dataframe tbody tr th:only-of-type {\n        vertical-align: middle;\n    }\n\n    .dataframe tbody tr th {\n        vertical-align: top;\n    }\n\n    .dataframe thead th {\n        text-align: right;\n    }\n</style>\n<table border=\"1\" class=\"dataframe\">\n  <thead>\n    <tr style=\"text-align: right;\">\n      <th></th>\n      <th>time</th>\n      <th>ip</th>\n      <th>origin</th>\n    </tr>\n  </thead>\n  <tbody>\n    <tr>\n      <th>194</th>\n      <td>2020-04-20 16:53:40</td>\n      <td>73.250.168.117</td>\n      <td>https://tiffany-matsuda.github.io</td>\n    </tr>\n    <tr>\n      <th>272</th>\n      <td>2020-04-20 16:25:47</td>\n      <td>186.15.173.74</td>\n      <td>https://tiffany-matsuda.github.io</td>\n    </tr>\n    <tr>\n      <th>107</th>\n      <td>2020-04-20 15:10:54</td>\n      <td>98.156.217.33</td>\n      <td>https://tiffany-matsuda.github.io</td>\n    </tr>\n    <tr>\n      <th>307</th>\n      <td>2020-04-20 14:59:20</td>\n      <td>39.13.38.197</td>\n      <td>https://tiffany-matsuda.github.io</td>\n    </tr>\n    <tr>\n      <th>235</th>\n      <td>2020-04-20 14:02:54</td>\n      <td>157.46.124.138</td>\n      <td>http://giiglr.com</td>\n    </tr>\n    <tr>\n      <th>6</th>\n      <td>2020-04-20 10:24:14</td>\n      <td>202.142.71.68</td>\n      <td>http://giiglr.com</td>\n    </tr>\n    <tr>\n      <th>49</th>\n      <td>2020-04-20 08:16:51</td>\n      <td>93.6.16.231</td>\n      <td>https://tiffany-matsuda.github.io</td>\n    </tr>\n    <tr>\n      <th>189</th>\n      <td>2020-04-20 08:01:17</td>\n      <td>180.246.8.181</td>\n      <td>http://giiglr.com</td>\n    </tr>\n    <tr>\n      <th>178</th>\n      <td>2020-04-20 06:46:25</td>\n      <td>49.130.128.51</td>\n      <td>https://tiffany-matsuda.github.io</td>\n    </tr>\n    <tr>\n      <th>232</th>\n      <td>2020-04-20 06:46:16</td>\n      <td>112.118.36.91</td>\n      <td>https://tiffany-matsuda.github.io</td>\n    </tr>\n    <tr>\n      <th>126</th>\n      <td>2020-04-20 06:44:56</td>\n      <td>112.118.36.91</td>\n      <td>https://tiffany-matsuda.github.io</td>\n    </tr>\n    <tr>\n      <th>311</th>\n      <td>2020-04-20 06:06:41</td>\n      <td>94.14.144.94</td>\n      <td>https://tiffany-matsuda.github.io</td>\n    </tr>\n    <tr>\n      <th>86</th>\n      <td>2020-04-20 04:09:41</td>\n      <td>103.79.168.130</td>\n      <td>https://tiffany-matsuda.github.io</td>\n    </tr>\n    <tr>\n      <th>347</th>\n      <td>2020-04-20 02:53:28</td>\n      <td>181.60.43.195</td>\n      <td>https://tiffany-matsuda.github.io</td>\n    </tr>\n    <tr>\n      <th>30</th>\n      <td>2020-04-20 02:22:51</td>\n      <td>24.17.143.171</td>\n      <td>https://tiffany-matsuda.github.io</td>\n    </tr>\n    <tr>\n      <th>156</th>\n      <td>2020-04-19 23:53:45</td>\n      <td>1.126.107.231</td>\n      <td>https://tiffany-matsuda.github.io</td>\n    </tr>\n    <tr>\n      <th>65</th>\n      <td>2020-04-19 23:53:42</td>\n      <td>1.126.107.231</td>\n      <td>https://tiffany-matsuda.github.io</td>\n    </tr>\n    <tr>\n      <th>202</th>\n      <td>2020-04-19 23:01:16</td>\n      <td>176.206.193.30</td>\n      <td>https://tiffany-matsuda.github.io</td>\n    </tr>\n    <tr>\n      <th>180</th>\n      <td>2020-04-19 22:17:12</td>\n      <td>80.180.109.95</td>\n      <td>https://tiffany-matsuda.github.io</td>\n    </tr>\n    <tr>\n      <th>277</th>\n      <td>2020-04-19 22:10:48</td>\n      <td>209.225.143.200</td>\n      <td>https://tiffany-matsuda.github.io</td>\n    </tr>\n    <tr>\n      <th>310</th>\n      <td>2020-04-19 22:00:49</td>\n      <td>68.5.103.5</td>\n      <td>https://tiffany-matsuda.github.io</td>\n    </tr>\n    <tr>\n      <th>293</th>\n      <td>2020-04-19 21:09:21</td>\n      <td>70.44.78.14</td>\n      <td>https://tiffany-matsuda.github.io</td>\n    </tr>\n    <tr>\n      <th>88</th>\n      <td>2020-04-19 14:15:29</td>\n      <td>213.211.208.231</td>\n      <td>https://tiffany-matsuda.github.io</td>\n    </tr>\n    <tr>\n      <th>134</th>\n      <td>2020-04-19 12:58:31</td>\n      <td>69.160.160.56</td>\n      <td>https://nickycoser.000webhostapp.com</td>\n    </tr>\n    <tr>\n      <th>37</th>\n      <td>2020-04-19 08:33:52</td>\n      <td>194.152.21.182</td>\n      <td>https://tiffany-matsuda.github.io</td>\n    </tr>\n    <tr>\n      <th>309</th>\n      <td>2020-04-19 08:05:22</td>\n      <td>14.199.30.183</td>\n      <td>https://tiffany-matsuda.github.io</td>\n    </tr>\n    <tr>\n      <th>15</th>\n      <td>2020-04-19 07:06:27</td>\n      <td>46.95.236.87</td>\n      <td>https://tiffany-matsuda.github.io</td>\n    </tr>\n    <tr>\n      <th>212</th>\n      <td>2020-04-19 06:37:18</td>\n      <td>37.160.252.0</td>\n      <td>https://tiffany-matsuda.github.io</td>\n    </tr>\n    <tr>\n      <th>219</th>\n      <td>2020-04-19 06:28:43</td>\n      <td>176.25.247.151</td>\n      <td>https://tiffany-matsuda.github.io</td>\n    </tr>\n    <tr>\n      <th>80</th>\n      <td>2020-04-19 06:08:54</td>\n      <td>79.145.85.15</td>\n      <td>https://tiffany-matsuda.github.io</td>\n    </tr>\n  </tbody>\n</table>\n</div>"
     },
     "metadata": {},
     "output_type": "execute_result",
     "execution_count": 15
    }
   ],
   "source": [
    "import boto3\n",
    "import pandas as pd\n",
    "from dynamodb_json import json_util as json\n",
    "\n",
    "\n",
    "dynamodb = boto3.client('dynamodb')\n",
    "result = dynamodb.scan(TableName='myWebsiteTable')\n",
    "\n",
    "# Convert Dynamodb json to regular json\n",
    "json_converted = json.loads(result['Items'])\n",
    "df = pd.DataFrame(json_converted)\n",
    "df = df.sort_values(by='time', ascending=False)\n",
    "\n",
    "# Change to datetime format\n",
    "df['time'] = pd.to_datetime(df['time'])\n",
    "df[['time', 'ip', 'origin']].head(30)"
   ],
   "metadata": {
    "collapsed": false,
    "pycharm": {
     "name": "#%%\n",
     "is_executing": false
    }
   }
  },
  {
   "cell_type": "markdown",
   "source": [
    "Count of number of records"
   ],
   "metadata": {
    "collapsed": false,
    "pycharm": {
     "name": "#%% md\n",
     "is_executing": false
    }
   }
  },
  {
   "cell_type": "code",
   "execution_count": 6,
   "outputs": [
    {
     "data": {
      "text/plain": "350"
     },
     "metadata": {},
     "output_type": "execute_result",
     "execution_count": 6
    }
   ],
   "source": [
    "df['time'].count()"
   ],
   "metadata": {
    "collapsed": false,
    "pycharm": {
     "name": "#%%\n",
     "is_executing": false
    }
   }
  },
  {
   "cell_type": "markdown",
   "source": [
    "Count number of records each day"
   ],
   "metadata": {
    "collapsed": false,
    "pycharm": {
     "name": "#%% md\n"
    }
   }
  },
  {
   "cell_type": "code",
   "execution_count": 21,
   "outputs": [
    {
     "data": {
      "text/plain": "2020-03-22     8\n2020-03-23    11\n2020-03-24     8\n2020-03-25     3\n2020-03-26     6\n2020-03-27     3\n2020-03-28     6\n2020-03-29     4\n2020-03-30     4\n2020-03-31     4\n2020-04-01     3\n2020-04-02     3\n2020-04-03     5\n2020-04-04     4\n2020-04-05     5\n2020-04-06     6\n2020-04-07     3\n2020-04-08     7\n2020-04-09     4\n2020-04-10     4\n2020-04-11     4\n2020-04-12    95\n2020-04-13    18\n2020-04-14    12\n2020-04-15     8\n2020-04-16    23\n2020-04-17    34\n2020-04-18    10\n2020-04-19    30\n2020-04-20    15\nName: day, dtype: int64"
     },
     "metadata": {},
     "output_type": "execute_result",
     "execution_count": 21
    }
   ],
   "source": [
    "df['day'] = df['time'].dt.date\n",
    "pd.value_counts(df['day']).sort_index()"
   ],
   "metadata": {
    "collapsed": false,
    "pycharm": {
     "name": "#%%\n",
     "is_executing": false
    }
   }
  }
 ],
 "metadata": {
  "kernelspec": {
   "display_name": "Python 3",
   "language": "python",
   "name": "python3"
  },
  "language_info": {
   "codemirror_mode": {
    "name": "ipython",
    "version": 2
   },
   "file_extension": ".py",
   "mimetype": "text/x-python",
   "name": "python",
   "nbconvert_exporter": "python",
   "pygments_lexer": "ipython2",
   "version": "2.7.6"
  },
  "pycharm": {
   "stem_cell": {
    "cell_type": "raw",
    "source": [],
    "metadata": {
     "collapsed": false
    }
   }
  }
 },
 "nbformat": 4,
 "nbformat_minor": 0
}
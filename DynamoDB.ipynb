{
 "cells": [
  {
   "cell_type": "markdown",
   "metadata": {
    "collapsed": true,
    "pycharm": {
     "is_executing": false,
     "name": "#%% md\n"
    }
   },
   "source": [
    "Reading Dynamodb table of my website\n",
    "Please use aws configure to login with access key and secret access key\n",
    "JSON converter: https://github.com/Alonreznik/dynamodb-json"
   ]
  },
  {
   "cell_type": "code",
   "execution_count": 1,
   "outputs": [
    {
     "data": {
      "text/plain": "                   time               ip\n200 2020-05-02 18:24:45   78.173.105.170\n372 2020-05-02 08:23:06   59.152.208.214\n261 2020-05-02 07:22:08    46.155.113.21\n0   2020-05-02 02:30:09     96.77.94.146\n271 2020-05-01 22:18:25     172.58.21.16\n38  2020-05-01 21:44:43   216.195.19.216\n26  2020-05-01 20:59:31    174.65.63.179\n419 2020-05-01 20:58:16    174.65.63.179\n102 2020-05-01 20:10:24    172.58.107.66\n81  2020-05-01 19:20:07    66.220.149.22\n248 2020-05-01 18:03:25   107.77.211.151\n443 2020-05-01 17:34:38     78.49.95.109\n225 2020-05-01 05:11:21    97.70.116.156\n151 2020-05-01 05:10:00    97.70.116.156\n182 2020-05-01 04:19:39   189.218.229.58\n116 2020-05-01 02:26:47     177.58.253.8\n262 2020-05-01 01:48:41  174.253.136.135\n80  2020-05-01 01:29:26    107.77.173.47\n63  2020-04-30 21:18:09      67.161.55.8\n73  2020-04-30 15:34:03   174.224.19.172\n120 2020-04-30 05:40:46    86.20.181.104\n78  2020-04-29 21:55:05  160.179.216.183\n9   2020-04-29 20:32:45     171.13.14.42\n56  2020-04-29 14:44:10  189.131.248.226\n363 2020-04-29 10:05:39    2.218.154.110\n266 2020-04-29 06:48:00     71.10.254.23\n129 2020-04-29 06:35:20    37.160.42.114\n13  2020-04-29 05:59:32   172.119.112.24\n27  2020-04-29 05:59:18   172.119.112.24\n43  2020-04-29 02:52:36     68.83.125.11",
      "text/html": "<div>\n<style scoped>\n    .dataframe tbody tr th:only-of-type {\n        vertical-align: middle;\n    }\n\n    .dataframe tbody tr th {\n        vertical-align: top;\n    }\n\n    .dataframe thead th {\n        text-align: right;\n    }\n</style>\n<table border=\"1\" class=\"dataframe\">\n  <thead>\n    <tr style=\"text-align: right;\">\n      <th></th>\n      <th>time</th>\n      <th>ip</th>\n    </tr>\n  </thead>\n  <tbody>\n    <tr>\n      <th>200</th>\n      <td>2020-05-02 18:24:45</td>\n      <td>78.173.105.170</td>\n    </tr>\n    <tr>\n      <th>372</th>\n      <td>2020-05-02 08:23:06</td>\n      <td>59.152.208.214</td>\n    </tr>\n    <tr>\n      <th>261</th>\n      <td>2020-05-02 07:22:08</td>\n      <td>46.155.113.21</td>\n    </tr>\n    <tr>\n      <th>0</th>\n      <td>2020-05-02 02:30:09</td>\n      <td>96.77.94.146</td>\n    </tr>\n    <tr>\n      <th>271</th>\n      <td>2020-05-01 22:18:25</td>\n      <td>172.58.21.16</td>\n    </tr>\n    <tr>\n      <th>38</th>\n      <td>2020-05-01 21:44:43</td>\n      <td>216.195.19.216</td>\n    </tr>\n    <tr>\n      <th>26</th>\n      <td>2020-05-01 20:59:31</td>\n      <td>174.65.63.179</td>\n    </tr>\n    <tr>\n      <th>419</th>\n      <td>2020-05-01 20:58:16</td>\n      <td>174.65.63.179</td>\n    </tr>\n    <tr>\n      <th>102</th>\n      <td>2020-05-01 20:10:24</td>\n      <td>172.58.107.66</td>\n    </tr>\n    <tr>\n      <th>81</th>\n      <td>2020-05-01 19:20:07</td>\n      <td>66.220.149.22</td>\n    </tr>\n    <tr>\n      <th>248</th>\n      <td>2020-05-01 18:03:25</td>\n      <td>107.77.211.151</td>\n    </tr>\n    <tr>\n      <th>443</th>\n      <td>2020-05-01 17:34:38</td>\n      <td>78.49.95.109</td>\n    </tr>\n    <tr>\n      <th>225</th>\n      <td>2020-05-01 05:11:21</td>\n      <td>97.70.116.156</td>\n    </tr>\n    <tr>\n      <th>151</th>\n      <td>2020-05-01 05:10:00</td>\n      <td>97.70.116.156</td>\n    </tr>\n    <tr>\n      <th>182</th>\n      <td>2020-05-01 04:19:39</td>\n      <td>189.218.229.58</td>\n    </tr>\n    <tr>\n      <th>116</th>\n      <td>2020-05-01 02:26:47</td>\n      <td>177.58.253.8</td>\n    </tr>\n    <tr>\n      <th>262</th>\n      <td>2020-05-01 01:48:41</td>\n      <td>174.253.136.135</td>\n    </tr>\n    <tr>\n      <th>80</th>\n      <td>2020-05-01 01:29:26</td>\n      <td>107.77.173.47</td>\n    </tr>\n    <tr>\n      <th>63</th>\n      <td>2020-04-30 21:18:09</td>\n      <td>67.161.55.8</td>\n    </tr>\n    <tr>\n      <th>73</th>\n      <td>2020-04-30 15:34:03</td>\n      <td>174.224.19.172</td>\n    </tr>\n    <tr>\n      <th>120</th>\n      <td>2020-04-30 05:40:46</td>\n      <td>86.20.181.104</td>\n    </tr>\n    <tr>\n      <th>78</th>\n      <td>2020-04-29 21:55:05</td>\n      <td>160.179.216.183</td>\n    </tr>\n    <tr>\n      <th>9</th>\n      <td>2020-04-29 20:32:45</td>\n      <td>171.13.14.42</td>\n    </tr>\n    <tr>\n      <th>56</th>\n      <td>2020-04-29 14:44:10</td>\n      <td>189.131.248.226</td>\n    </tr>\n    <tr>\n      <th>363</th>\n      <td>2020-04-29 10:05:39</td>\n      <td>2.218.154.110</td>\n    </tr>\n    <tr>\n      <th>266</th>\n      <td>2020-04-29 06:48:00</td>\n      <td>71.10.254.23</td>\n    </tr>\n    <tr>\n      <th>129</th>\n      <td>2020-04-29 06:35:20</td>\n      <td>37.160.42.114</td>\n    </tr>\n    <tr>\n      <th>13</th>\n      <td>2020-04-29 05:59:32</td>\n      <td>172.119.112.24</td>\n    </tr>\n    <tr>\n      <th>27</th>\n      <td>2020-04-29 05:59:18</td>\n      <td>172.119.112.24</td>\n    </tr>\n    <tr>\n      <th>43</th>\n      <td>2020-04-29 02:52:36</td>\n      <td>68.83.125.11</td>\n    </tr>\n  </tbody>\n</table>\n</div>"
     },
     "execution_count": 1,
     "metadata": {},
     "output_type": "execute_result"
    }
   ],
   "source": [
    "import boto3\n",
    "import pandas as pd\n",
    "from dynamodb_json import json_util as json\n",
    "\n",
    "\n",
    "dynamodb = boto3.client('dynamodb')\n",
    "result = dynamodb.scan(TableName='myWebsiteTable')\n",
    "\n",
    "# Convert Dynamodb json to regular json\n",
    "json_converted = json.loads(result['Items'])\n",
    "df = pd.DataFrame(json_converted)\n",
    "df = df.sort_values(by='time', ascending=False)\n",
    "\n",
    "# Change to datetime format\n",
    "df['time'] = pd.to_datetime(df['time'])\n",
    "# df[['time', 'ip', 'origin']].head(30)\n",
    "\n",
    "df[['time', 'ip']].head(30)"
   ],
   "metadata": {
    "collapsed": false,
    "pycharm": {
     "name": "#%%\n"
    }
   }
  },
  {
   "cell_type": "markdown",
   "source": [
    "Count of number of records"
   ],
   "metadata": {
    "collapsed": false,
    "pycharm": {
     "name": "#%% md\n",
     "is_executing": false
    }
   }
  },
  {
   "cell_type": "code",
   "execution_count": 2,
   "outputs": [
    {
     "data": {
      "text/plain": "481"
     },
     "execution_count": 2,
     "metadata": {},
     "output_type": "execute_result"
    }
   ],
   "source": [
    "df['time'].count()"
   ],
   "metadata": {
    "collapsed": false,
    "pycharm": {
     "name": "#%%\n"
    }
   }
  },
  {
   "cell_type": "markdown",
   "source": [
    "Count number of records each day"
   ],
   "metadata": {
    "collapsed": false,
    "pycharm": {
     "name": "#%% md\n"
    }
   }
  },
  {
   "cell_type": "code",
   "execution_count": 3,
   "outputs": [
    {
     "data": {
      "text/plain": "2020-03-22     8\n2020-03-23    11\n2020-03-24     8\n2020-03-25     3\n2020-03-26     6\n2020-03-27     3\n2020-03-28     6\n2020-03-29     4\n2020-03-30     4\n2020-03-31     4\n2020-04-01     3\n2020-04-02     3\n2020-04-03     5\n2020-04-04     4\n2020-04-05     5\n2020-04-06     6\n2020-04-07     3\n2020-04-08     7\n2020-04-09     4\n2020-04-10     4\n2020-04-11     4\n2020-04-12    95\n2020-04-13    18\n2020-04-14    12\n2020-04-15     8\n2020-04-16    23\n2020-04-17    34\n2020-04-18    10\n2020-04-19    30\n2020-04-20    20\n2020-04-21    12\n2020-04-22    12\n2020-04-23    17\n2020-04-24     8\n2020-04-25    13\n2020-04-26    12\n2020-04-27     6\n2020-04-28    12\n2020-04-29    13\n2020-04-30     3\n2020-05-01    14\n2020-05-02     4\nName: day, dtype: int64"
     },
     "execution_count": 3,
     "metadata": {},
     "output_type": "execute_result"
    }
   ],
   "source": [
    "df['day'] = df['time'].dt.date\n",
    "pd.value_counts(df['day']).sort_index()"
   ],
   "metadata": {
    "collapsed": false,
    "pycharm": {
     "name": "#%%\n"
    }
   }
  }
 ],
 "metadata": {
  "kernelspec": {
   "display_name": "Python 3",
   "language": "python",
   "name": "python3"
  },
  "language_info": {
   "codemirror_mode": {
    "name": "ipython",
    "version": 2
   },
   "file_extension": ".py",
   "mimetype": "text/x-python",
   "name": "python",
   "nbconvert_exporter": "python",
   "pygments_lexer": "ipython2",
   "version": "2.7.6"
  }
 },
 "nbformat": 4,
 "nbformat_minor": 0
}